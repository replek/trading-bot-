{
 "cells": [
  {
   "cell_type": "code",
   "execution_count": 31,
   "id": "669df811",
   "metadata": {},
   "outputs": [],
   "source": [
    "import pandas as pd\n",
    "import requests\n",
    "from io import StringIO\n",
    "import plotly.graph_objects as go\n",
    "from plotly.subplots import make_subplots\n"
   ]
  },
  {
   "cell_type": "code",
   "execution_count": 32,
   "id": "88471435",
   "metadata": {},
   "outputs": [],
   "source": [
    "money = 1000000\n",
    "start = '2025-01-01'\n",
    "start = pd.to_datetime(start)\n",
    "finish = '2025-06-01'\n",
    "finish = pd.to_datetime(finish)\n",
    "stop_loss = 5\n",
    "short_window = 30\n",
    "long_window = 90\n"
   ]
  },
  {
   "cell_type": "markdown",
   "id": "1aae9ccc",
   "metadata": {},
   "source": [
    "Воспользуемся библиотекой requests чтобы взять данные с мос биржи. Будем торговать акциями Аэрофлота. "
   ]
  },
  {
   "cell_type": "code",
   "execution_count": 33,
   "id": "4df0e941",
   "metadata": {},
   "outputs": [
    {
     "data": {
      "text/html": [
       "<div>\n",
       "<style scoped>\n",
       "    .dataframe tbody tr th:only-of-type {\n",
       "        vertical-align: middle;\n",
       "    }\n",
       "\n",
       "    .dataframe tbody tr th {\n",
       "        vertical-align: top;\n",
       "    }\n",
       "\n",
       "    .dataframe thead th {\n",
       "        text-align: right;\n",
       "    }\n",
       "</style>\n",
       "<table border=\"1\" class=\"dataframe\">\n",
       "  <thead>\n",
       "    <tr style=\"text-align: right;\">\n",
       "      <th></th>\n",
       "      <th>open</th>\n",
       "      <th>close</th>\n",
       "      <th>high</th>\n",
       "      <th>low</th>\n",
       "      <th>value</th>\n",
       "      <th>volume</th>\n",
       "      <th>begin</th>\n",
       "      <th>end</th>\n",
       "    </tr>\n",
       "  </thead>\n",
       "  <tbody>\n",
       "    <tr>\n",
       "      <th>0</th>\n",
       "      <td>48.50</td>\n",
       "      <td>49.53</td>\n",
       "      <td>49.59</td>\n",
       "      <td>47.14</td>\n",
       "      <td>1.760458e+09</td>\n",
       "      <td>36458890</td>\n",
       "      <td>2024-08-26</td>\n",
       "      <td>2024-08-26 23:59:59</td>\n",
       "    </tr>\n",
       "    <tr>\n",
       "      <th>1</th>\n",
       "      <td>49.52</td>\n",
       "      <td>48.38</td>\n",
       "      <td>49.52</td>\n",
       "      <td>47.72</td>\n",
       "      <td>1.363135e+09</td>\n",
       "      <td>28103530</td>\n",
       "      <td>2024-08-27</td>\n",
       "      <td>2024-08-27 23:59:59</td>\n",
       "    </tr>\n",
       "    <tr>\n",
       "      <th>2</th>\n",
       "      <td>48.17</td>\n",
       "      <td>50.42</td>\n",
       "      <td>50.63</td>\n",
       "      <td>47.48</td>\n",
       "      <td>2.410257e+09</td>\n",
       "      <td>49236880</td>\n",
       "      <td>2024-08-28</td>\n",
       "      <td>2024-08-28 23:59:59</td>\n",
       "    </tr>\n",
       "    <tr>\n",
       "      <th>3</th>\n",
       "      <td>50.30</td>\n",
       "      <td>49.49</td>\n",
       "      <td>51.07</td>\n",
       "      <td>48.61</td>\n",
       "      <td>3.503645e+09</td>\n",
       "      <td>70520800</td>\n",
       "      <td>2024-08-29</td>\n",
       "      <td>2024-08-29 23:59:59</td>\n",
       "    </tr>\n",
       "    <tr>\n",
       "      <th>4</th>\n",
       "      <td>49.60</td>\n",
       "      <td>47.12</td>\n",
       "      <td>49.77</td>\n",
       "      <td>46.70</td>\n",
       "      <td>1.872355e+09</td>\n",
       "      <td>39218660</td>\n",
       "      <td>2024-08-30</td>\n",
       "      <td>2024-08-30 23:59:59</td>\n",
       "    </tr>\n",
       "    <tr>\n",
       "      <th>...</th>\n",
       "      <td>...</td>\n",
       "      <td>...</td>\n",
       "      <td>...</td>\n",
       "      <td>...</td>\n",
       "      <td>...</td>\n",
       "      <td>...</td>\n",
       "      <td>...</td>\n",
       "      <td>...</td>\n",
       "    </tr>\n",
       "    <tr>\n",
       "      <th>210</th>\n",
       "      <td>65.47</td>\n",
       "      <td>67.56</td>\n",
       "      <td>68.00</td>\n",
       "      <td>65.26</td>\n",
       "      <td>1.431385e+09</td>\n",
       "      <td>21462320</td>\n",
       "      <td>2025-05-28</td>\n",
       "      <td>2025-05-28 23:59:55</td>\n",
       "    </tr>\n",
       "    <tr>\n",
       "      <th>211</th>\n",
       "      <td>67.66</td>\n",
       "      <td>66.26</td>\n",
       "      <td>67.97</td>\n",
       "      <td>66.00</td>\n",
       "      <td>1.080219e+09</td>\n",
       "      <td>16083490</td>\n",
       "      <td>2025-05-29</td>\n",
       "      <td>2025-05-29 23:59:55</td>\n",
       "    </tr>\n",
       "    <tr>\n",
       "      <th>212</th>\n",
       "      <td>66.26</td>\n",
       "      <td>68.53</td>\n",
       "      <td>68.89</td>\n",
       "      <td>65.55</td>\n",
       "      <td>2.969733e+09</td>\n",
       "      <td>43699980</td>\n",
       "      <td>2025-05-30</td>\n",
       "      <td>2025-05-30 23:59:56</td>\n",
       "    </tr>\n",
       "    <tr>\n",
       "      <th>213</th>\n",
       "      <td>68.65</td>\n",
       "      <td>68.45</td>\n",
       "      <td>69.00</td>\n",
       "      <td>68.16</td>\n",
       "      <td>1.301090e+08</td>\n",
       "      <td>1897590</td>\n",
       "      <td>2025-05-31</td>\n",
       "      <td>2025-05-31 23:59:56</td>\n",
       "    </tr>\n",
       "    <tr>\n",
       "      <th>214</th>\n",
       "      <td>68.10</td>\n",
       "      <td>66.55</td>\n",
       "      <td>68.30</td>\n",
       "      <td>66.43</td>\n",
       "      <td>5.888360e+08</td>\n",
       "      <td>8789940</td>\n",
       "      <td>2025-06-01</td>\n",
       "      <td>2025-06-01 23:59:57</td>\n",
       "    </tr>\n",
       "  </tbody>\n",
       "</table>\n",
       "<p>215 rows × 8 columns</p>\n",
       "</div>"
      ],
      "text/plain": [
       "      open  close   high    low         value    volume      begin  \\\n",
       "0    48.50  49.53  49.59  47.14  1.760458e+09  36458890 2024-08-26   \n",
       "1    49.52  48.38  49.52  47.72  1.363135e+09  28103530 2024-08-27   \n",
       "2    48.17  50.42  50.63  47.48  2.410257e+09  49236880 2024-08-28   \n",
       "3    50.30  49.49  51.07  48.61  3.503645e+09  70520800 2024-08-29   \n",
       "4    49.60  47.12  49.77  46.70  1.872355e+09  39218660 2024-08-30   \n",
       "..     ...    ...    ...    ...           ...       ...        ...   \n",
       "210  65.47  67.56  68.00  65.26  1.431385e+09  21462320 2025-05-28   \n",
       "211  67.66  66.26  67.97  66.00  1.080219e+09  16083490 2025-05-29   \n",
       "212  66.26  68.53  68.89  65.55  2.969733e+09  43699980 2025-05-30   \n",
       "213  68.65  68.45  69.00  68.16  1.301090e+08   1897590 2025-05-31   \n",
       "214  68.10  66.55  68.30  66.43  5.888360e+08   8789940 2025-06-01   \n",
       "\n",
       "                    end  \n",
       "0   2024-08-26 23:59:59  \n",
       "1   2024-08-27 23:59:59  \n",
       "2   2024-08-28 23:59:59  \n",
       "3   2024-08-29 23:59:59  \n",
       "4   2024-08-30 23:59:59  \n",
       "..                  ...  \n",
       "210 2025-05-28 23:59:55  \n",
       "211 2025-05-29 23:59:55  \n",
       "212 2025-05-30 23:59:56  \n",
       "213 2025-05-31 23:59:56  \n",
       "214 2025-06-01 23:59:57  \n",
       "\n",
       "[215 rows x 8 columns]"
      ]
     },
     "execution_count": 33,
     "metadata": {},
     "output_type": "execute_result"
    }
   ],
   "source": [
    "\n",
    "start_90 = start - pd.DateOffset(days=128)\n",
    "all_data = []\n",
    "start_index = 0  \n",
    "while True:\n",
    "    url = 'https://iss.moex.com/iss/engines/stock/markets/shares/boards/TQBR/securities/AFLT/candles.json'\n",
    "    params = {\n",
    "        'from': start_90,\n",
    "        'till': finish,\n",
    "        'interval': '24',  \n",
    "        'start': start_index \n",
    "    }\n",
    "    response = requests.get(url, params=params)\n",
    "    data = response.json()\n",
    "    candles = data['candles']\n",
    "    chunk = candles['data']\n",
    "    if not chunk:\n",
    "        break\n",
    "    all_data.extend(chunk)\n",
    "    start_index += 500\n",
    "data = pd.DataFrame(all_data, columns=candles['columns'])\n",
    "data['begin'] = pd.to_datetime(data['begin'])\n",
    "data['end'] = pd.to_datetime(data['end'])\n",
    "data"
   ]
  },
  {
   "cell_type": "markdown",
   "id": "ff4e3dba",
   "metadata": {},
   "source": [
    "Теперь возьмем только нужные нам колонки в нужном порядке"
   ]
  },
  {
   "cell_type": "code",
   "execution_count": null,
   "id": "9bf04b62",
   "metadata": {},
   "outputs": [
    {
     "data": {
      "text/html": [
       "<div>\n",
       "<style scoped>\n",
       "    .dataframe tbody tr th:only-of-type {\n",
       "        vertical-align: middle;\n",
       "    }\n",
       "\n",
       "    .dataframe tbody tr th {\n",
       "        vertical-align: top;\n",
       "    }\n",
       "\n",
       "    .dataframe thead th {\n",
       "        text-align: right;\n",
       "    }\n",
       "</style>\n",
       "<table border=\"1\" class=\"dataframe\">\n",
       "  <thead>\n",
       "    <tr style=\"text-align: right;\">\n",
       "      <th></th>\n",
       "      <th>open</th>\n",
       "      <th>high</th>\n",
       "      <th>low</th>\n",
       "      <th>close</th>\n",
       "    </tr>\n",
       "    <tr>\n",
       "      <th>begin</th>\n",
       "      <th></th>\n",
       "      <th></th>\n",
       "      <th></th>\n",
       "      <th></th>\n",
       "    </tr>\n",
       "  </thead>\n",
       "  <tbody>\n",
       "    <tr>\n",
       "      <th>2024-08-26</th>\n",
       "      <td>48.50</td>\n",
       "      <td>49.59</td>\n",
       "      <td>47.14</td>\n",
       "      <td>49.53</td>\n",
       "    </tr>\n",
       "    <tr>\n",
       "      <th>2024-08-27</th>\n",
       "      <td>49.52</td>\n",
       "      <td>49.52</td>\n",
       "      <td>47.72</td>\n",
       "      <td>48.38</td>\n",
       "    </tr>\n",
       "    <tr>\n",
       "      <th>2024-08-28</th>\n",
       "      <td>48.17</td>\n",
       "      <td>50.63</td>\n",
       "      <td>47.48</td>\n",
       "      <td>50.42</td>\n",
       "    </tr>\n",
       "    <tr>\n",
       "      <th>2024-08-29</th>\n",
       "      <td>50.30</td>\n",
       "      <td>51.07</td>\n",
       "      <td>48.61</td>\n",
       "      <td>49.49</td>\n",
       "    </tr>\n",
       "    <tr>\n",
       "      <th>2024-08-30</th>\n",
       "      <td>49.60</td>\n",
       "      <td>49.77</td>\n",
       "      <td>46.70</td>\n",
       "      <td>47.12</td>\n",
       "    </tr>\n",
       "    <tr>\n",
       "      <th>...</th>\n",
       "      <td>...</td>\n",
       "      <td>...</td>\n",
       "      <td>...</td>\n",
       "      <td>...</td>\n",
       "    </tr>\n",
       "    <tr>\n",
       "      <th>2025-05-28</th>\n",
       "      <td>65.47</td>\n",
       "      <td>68.00</td>\n",
       "      <td>65.26</td>\n",
       "      <td>67.56</td>\n",
       "    </tr>\n",
       "    <tr>\n",
       "      <th>2025-05-29</th>\n",
       "      <td>67.66</td>\n",
       "      <td>67.97</td>\n",
       "      <td>66.00</td>\n",
       "      <td>66.26</td>\n",
       "    </tr>\n",
       "    <tr>\n",
       "      <th>2025-05-30</th>\n",
       "      <td>66.26</td>\n",
       "      <td>68.89</td>\n",
       "      <td>65.55</td>\n",
       "      <td>68.53</td>\n",
       "    </tr>\n",
       "    <tr>\n",
       "      <th>2025-05-31</th>\n",
       "      <td>68.65</td>\n",
       "      <td>69.00</td>\n",
       "      <td>68.16</td>\n",
       "      <td>68.45</td>\n",
       "    </tr>\n",
       "    <tr>\n",
       "      <th>2025-06-01</th>\n",
       "      <td>68.10</td>\n",
       "      <td>68.30</td>\n",
       "      <td>66.43</td>\n",
       "      <td>66.55</td>\n",
       "    </tr>\n",
       "  </tbody>\n",
       "</table>\n",
       "<p>215 rows × 4 columns</p>\n",
       "</div>"
      ],
      "text/plain": [
       "             open   high    low  close\n",
       "begin                                 \n",
       "2024-08-26  48.50  49.59  47.14  49.53\n",
       "2024-08-27  49.52  49.52  47.72  48.38\n",
       "2024-08-28  48.17  50.63  47.48  50.42\n",
       "2024-08-29  50.30  51.07  48.61  49.49\n",
       "2024-08-30  49.60  49.77  46.70  47.12\n",
       "...           ...    ...    ...    ...\n",
       "2025-05-28  65.47  68.00  65.26  67.56\n",
       "2025-05-29  67.66  67.97  66.00  66.26\n",
       "2025-05-30  66.26  68.89  65.55  68.53\n",
       "2025-05-31  68.65  69.00  68.16  68.45\n",
       "2025-06-01  68.10  68.30  66.43  66.55\n",
       "\n",
       "[215 rows x 4 columns]"
      ]
     },
     "execution_count": 34,
     "metadata": {},
     "output_type": "execute_result"
    }
   ],
   "source": [
    "\n",
    "valuable_columns = ['open', 'high', 'low', 'close', 'end']\n",
    "data = data[valuable_columns] \n",
    "data = data.set_index(['end'])\n",
    "data\n"
   ]
  },
  {
   "cell_type": "markdown",
   "id": "393ed5be",
   "metadata": {},
   "source": [
    "Возьмем данные за 90 дней до начала нашего торгового периода чтобы рассчитать сумму длинной и короткой скользащящих средних здесь в коде 128 было подобрано из за выходных, чтобы набралось 90 дней. Небольшой костыль\n"
   ]
  },
  {
   "cell_type": "code",
   "execution_count": 35,
   "id": "58be41a4",
   "metadata": {},
   "outputs": [
    {
     "data": {
      "text/html": [
       "<div>\n",
       "<style scoped>\n",
       "    .dataframe tbody tr th:only-of-type {\n",
       "        vertical-align: middle;\n",
       "    }\n",
       "\n",
       "    .dataframe tbody tr th {\n",
       "        vertical-align: top;\n",
       "    }\n",
       "\n",
       "    .dataframe thead th {\n",
       "        text-align: right;\n",
       "    }\n",
       "</style>\n",
       "<table border=\"1\" class=\"dataframe\">\n",
       "  <thead>\n",
       "    <tr style=\"text-align: right;\">\n",
       "      <th></th>\n",
       "      <th>open</th>\n",
       "      <th>high</th>\n",
       "      <th>low</th>\n",
       "      <th>close</th>\n",
       "      <th>SMA_30</th>\n",
       "      <th>SMA_90</th>\n",
       "    </tr>\n",
       "    <tr>\n",
       "      <th>begin</th>\n",
       "      <th></th>\n",
       "      <th></th>\n",
       "      <th></th>\n",
       "      <th></th>\n",
       "      <th></th>\n",
       "      <th></th>\n",
       "    </tr>\n",
       "  </thead>\n",
       "  <tbody>\n",
       "    <tr>\n",
       "      <th>2024-08-26</th>\n",
       "      <td>48.50</td>\n",
       "      <td>49.59</td>\n",
       "      <td>47.14</td>\n",
       "      <td>49.53</td>\n",
       "      <td>NaN</td>\n",
       "      <td>NaN</td>\n",
       "    </tr>\n",
       "    <tr>\n",
       "      <th>2024-08-27</th>\n",
       "      <td>49.52</td>\n",
       "      <td>49.52</td>\n",
       "      <td>47.72</td>\n",
       "      <td>48.38</td>\n",
       "      <td>NaN</td>\n",
       "      <td>NaN</td>\n",
       "    </tr>\n",
       "    <tr>\n",
       "      <th>2024-08-28</th>\n",
       "      <td>48.17</td>\n",
       "      <td>50.63</td>\n",
       "      <td>47.48</td>\n",
       "      <td>50.42</td>\n",
       "      <td>NaN</td>\n",
       "      <td>NaN</td>\n",
       "    </tr>\n",
       "    <tr>\n",
       "      <th>2024-08-29</th>\n",
       "      <td>50.30</td>\n",
       "      <td>51.07</td>\n",
       "      <td>48.61</td>\n",
       "      <td>49.49</td>\n",
       "      <td>NaN</td>\n",
       "      <td>NaN</td>\n",
       "    </tr>\n",
       "    <tr>\n",
       "      <th>2024-08-30</th>\n",
       "      <td>49.60</td>\n",
       "      <td>49.77</td>\n",
       "      <td>46.70</td>\n",
       "      <td>47.12</td>\n",
       "      <td>NaN</td>\n",
       "      <td>NaN</td>\n",
       "    </tr>\n",
       "    <tr>\n",
       "      <th>...</th>\n",
       "      <td>...</td>\n",
       "      <td>...</td>\n",
       "      <td>...</td>\n",
       "      <td>...</td>\n",
       "      <td>...</td>\n",
       "      <td>...</td>\n",
       "    </tr>\n",
       "    <tr>\n",
       "      <th>2025-05-28</th>\n",
       "      <td>65.47</td>\n",
       "      <td>68.00</td>\n",
       "      <td>65.26</td>\n",
       "      <td>67.56</td>\n",
       "      <td>69.910333</td>\n",
       "      <td>71.230222</td>\n",
       "    </tr>\n",
       "    <tr>\n",
       "      <th>2025-05-29</th>\n",
       "      <td>67.66</td>\n",
       "      <td>67.97</td>\n",
       "      <td>66.00</td>\n",
       "      <td>66.26</td>\n",
       "      <td>69.758000</td>\n",
       "      <td>71.226333</td>\n",
       "    </tr>\n",
       "    <tr>\n",
       "      <th>2025-05-30</th>\n",
       "      <td>66.26</td>\n",
       "      <td>68.89</td>\n",
       "      <td>65.55</td>\n",
       "      <td>68.53</td>\n",
       "      <td>69.474000</td>\n",
       "      <td>71.177889</td>\n",
       "    </tr>\n",
       "    <tr>\n",
       "      <th>2025-05-31</th>\n",
       "      <td>68.65</td>\n",
       "      <td>69.00</td>\n",
       "      <td>68.16</td>\n",
       "      <td>68.45</td>\n",
       "      <td>69.277000</td>\n",
       "      <td>71.108000</td>\n",
       "    </tr>\n",
       "    <tr>\n",
       "      <th>2025-06-01</th>\n",
       "      <td>68.10</td>\n",
       "      <td>68.30</td>\n",
       "      <td>66.43</td>\n",
       "      <td>66.55</td>\n",
       "      <td>69.056667</td>\n",
       "      <td>71.064667</td>\n",
       "    </tr>\n",
       "  </tbody>\n",
       "</table>\n",
       "<p>215 rows × 6 columns</p>\n",
       "</div>"
      ],
      "text/plain": [
       "             open   high    low  close     SMA_30     SMA_90\n",
       "begin                                                       \n",
       "2024-08-26  48.50  49.59  47.14  49.53        NaN        NaN\n",
       "2024-08-27  49.52  49.52  47.72  48.38        NaN        NaN\n",
       "2024-08-28  48.17  50.63  47.48  50.42        NaN        NaN\n",
       "2024-08-29  50.30  51.07  48.61  49.49        NaN        NaN\n",
       "2024-08-30  49.60  49.77  46.70  47.12        NaN        NaN\n",
       "...           ...    ...    ...    ...        ...        ...\n",
       "2025-05-28  65.47  68.00  65.26  67.56  69.910333  71.230222\n",
       "2025-05-29  67.66  67.97  66.00  66.26  69.758000  71.226333\n",
       "2025-05-30  66.26  68.89  65.55  68.53  69.474000  71.177889\n",
       "2025-05-31  68.65  69.00  68.16  68.45  69.277000  71.108000\n",
       "2025-06-01  68.10  68.30  66.43  66.55  69.056667  71.064667\n",
       "\n",
       "[215 rows x 6 columns]"
      ]
     },
     "execution_count": 35,
     "metadata": {},
     "output_type": "execute_result"
    }
   ],
   "source": [
    "start_90 = start - pd.DateOffset(days=128)\n",
    "data['SMA_30'] = data['open'].rolling(30).mean()\n",
    "data['SMA_90'] = data['open'].rolling(90).mean()\n",
    "data"
   ]
  },
  {
   "cell_type": "markdown",
   "id": "3035c8e3",
   "metadata": {},
   "source": [
    "Создаем датафрейм в который будем записывать наш финальный ответ с нужными колонками\n"
   ]
  },
  {
   "cell_type": "code",
   "execution_count": 36,
   "id": "9852ae5a",
   "metadata": {},
   "outputs": [],
   "source": [
    "result = pd.DataFrame({\n",
    "    'date': pd.Series(dtype='datetime64[ns]'),\n",
    "    'signal': pd.Series(dtype='object'),\n",
    "    'num_shares': pd.Series(dtype='int64'),\n",
    "    'share_price': pd.Series(dtype='float'),\n",
    "    'share_value': pd.Series(dtype='float'),\n",
    "    'cash': pd.Series(dtype='float')\n",
    "})\n",
    "result.loc[0, 'cash'] = money\n",
    "\n"
   ]
  },
  {
   "cell_type": "markdown",
   "id": "5b3f14c3",
   "metadata": {},
   "source": [
    "В качестве алгоритма трекаем сигнал, затем в зависимости от сигнала совершаем действия. Проходимся по датам в наших взятых данных, используем cnt для отметки какая у нас сейчас строка в датафрейме."
   ]
  },
  {
   "cell_type": "code",
   "execution_count": 37,
   "id": "94a774df",
   "metadata": {},
   "outputs": [
    {
     "data": {
      "text/html": [
       "<div>\n",
       "<style scoped>\n",
       "    .dataframe tbody tr th:only-of-type {\n",
       "        vertical-align: middle;\n",
       "    }\n",
       "\n",
       "    .dataframe tbody tr th {\n",
       "        vertical-align: top;\n",
       "    }\n",
       "\n",
       "    .dataframe thead th {\n",
       "        text-align: right;\n",
       "    }\n",
       "</style>\n",
       "<table border=\"1\" class=\"dataframe\">\n",
       "  <thead>\n",
       "    <tr style=\"text-align: right;\">\n",
       "      <th></th>\n",
       "      <th>date</th>\n",
       "      <th>signal</th>\n",
       "      <th>num_shares</th>\n",
       "      <th>share_price</th>\n",
       "      <th>share_value</th>\n",
       "      <th>cash</th>\n",
       "    </tr>\n",
       "  </thead>\n",
       "  <tbody>\n",
       "    <tr>\n",
       "      <th>0</th>\n",
       "      <td>NaT</td>\n",
       "      <td>NaN</td>\n",
       "      <td>NaN</td>\n",
       "      <td>NaN</td>\n",
       "      <td>NaN</td>\n",
       "      <td>1000000.00</td>\n",
       "    </tr>\n",
       "    <tr>\n",
       "      <th>12</th>\n",
       "      <td>2025-01-22</td>\n",
       "      <td>sig_buy</td>\n",
       "      <td>0.0</td>\n",
       "      <td>61.7000</td>\n",
       "      <td>0.00</td>\n",
       "      <td>1000000.00</td>\n",
       "    </tr>\n",
       "    <tr>\n",
       "      <th>13</th>\n",
       "      <td>2025-01-23</td>\n",
       "      <td>buy</td>\n",
       "      <td>16605.0</td>\n",
       "      <td>60.2200</td>\n",
       "      <td>999953.10</td>\n",
       "      <td>46.90</td>\n",
       "    </tr>\n",
       "    <tr>\n",
       "      <th>93</th>\n",
       "      <td>2025-04-29</td>\n",
       "      <td>sig_sale</td>\n",
       "      <td>16605.0</td>\n",
       "      <td>73.5000</td>\n",
       "      <td>1220467.50</td>\n",
       "      <td>46.90</td>\n",
       "    </tr>\n",
       "    <tr>\n",
       "      <th>94</th>\n",
       "      <td>2025-04-30</td>\n",
       "      <td>sale</td>\n",
       "      <td>0.0</td>\n",
       "      <td>70.7900</td>\n",
       "      <td>0.00</td>\n",
       "      <td>1175514.85</td>\n",
       "    </tr>\n",
       "    <tr>\n",
       "      <th>95</th>\n",
       "      <td>2025-05-02</td>\n",
       "      <td>sig_buy</td>\n",
       "      <td>0.0</td>\n",
       "      <td>70.6800</td>\n",
       "      <td>0.00</td>\n",
       "      <td>1175514.85</td>\n",
       "    </tr>\n",
       "    <tr>\n",
       "      <th>96</th>\n",
       "      <td>2025-05-03</td>\n",
       "      <td>buy</td>\n",
       "      <td>17484.0</td>\n",
       "      <td>67.2300</td>\n",
       "      <td>1175449.32</td>\n",
       "      <td>65.53</td>\n",
       "    </tr>\n",
       "    <tr>\n",
       "      <th>105</th>\n",
       "      <td>2025-05-13</td>\n",
       "      <td>sig_buy</td>\n",
       "      <td>0.0</td>\n",
       "      <td>72.1600</td>\n",
       "      <td>0.00</td>\n",
       "      <td>65.53</td>\n",
       "    </tr>\n",
       "    <tr>\n",
       "      <th>106</th>\n",
       "      <td>2025-05-14</td>\n",
       "      <td>buy</td>\n",
       "      <td>0.0</td>\n",
       "      <td>71.2700</td>\n",
       "      <td>0.00</td>\n",
       "      <td>65.53</td>\n",
       "    </tr>\n",
       "    <tr>\n",
       "      <th>109</th>\n",
       "      <td>2025-05-17</td>\n",
       "      <td>stop_loss</td>\n",
       "      <td>0.0</td>\n",
       "      <td>67.7065</td>\n",
       "      <td>0.00</td>\n",
       "      <td>65.53</td>\n",
       "    </tr>\n",
       "  </tbody>\n",
       "</table>\n",
       "</div>"
      ],
      "text/plain": [
       "          date     signal  num_shares  share_price  share_value        cash\n",
       "0          NaT        NaN         NaN          NaN          NaN  1000000.00\n",
       "12  2025-01-22    sig_buy         0.0      61.7000         0.00  1000000.00\n",
       "13  2025-01-23        buy     16605.0      60.2200    999953.10       46.90\n",
       "93  2025-04-29   sig_sale     16605.0      73.5000   1220467.50       46.90\n",
       "94  2025-04-30       sale         0.0      70.7900         0.00  1175514.85\n",
       "95  2025-05-02    sig_buy         0.0      70.6800         0.00  1175514.85\n",
       "96  2025-05-03        buy     17484.0      67.2300   1175449.32       65.53\n",
       "105 2025-05-13    sig_buy         0.0      72.1600         0.00       65.53\n",
       "106 2025-05-14        buy         0.0      71.2700         0.00       65.53\n",
       "109 2025-05-17  stop_loss         0.0      67.7065         0.00       65.53"
      ]
     },
     "execution_count": 37,
     "metadata": {},
     "output_type": "execute_result"
    }
   ],
   "source": [
    "signal = '0'\n",
    "cnt = 0\n",
    "num_shares = 0\n",
    "stop_loss_price = 0\n",
    "nearest_date = data.index[data.index >= pd.to_datetime(start)][0]\n",
    "previous_date = nearest_date\n",
    "for i in data.index:\n",
    "    if i < start:\n",
    "        continue\n",
    "    if data.loc[previous_date, 'SMA_30'] < data.loc[previous_date, 'SMA_90'] and data.loc[i, 'SMA_30'] > data.loc[i, 'SMA_90'] and signal == '0':\n",
    "        signal = 'sig_buy'\n",
    "    if num_shares > 0: \n",
    "        if data.loc[previous_date, 'SMA_30'] > data.loc[previous_date, 'SMA_90'] and data.loc[i, 'SMA_30'] < data.loc[i, 'SMA_90'] and signal == '0':\n",
    "            signal = 'sig_sale' \n",
    "    if signal != '0':\n",
    "        result.loc[cnt, 'share_price'] = data.loc[i, 'open']\n",
    "        result.loc[cnt, 'date'] = i\n",
    "        result.loc[cnt, 'signal'] = signal\n",
    "    if signal == 'sale':\n",
    "        result.loc[cnt, 'share_price'] = data.loc[i, 'open']\n",
    "        money = money + num_shares * result.loc[cnt, 'share_price']\n",
    "        result.loc[cnt, 'cash'] = money\n",
    "        result.loc[cnt, 'num_shares'] = 0\n",
    "        result.loc[cnt, 'share_value'] = 0\n",
    "        num_shares = 0 \n",
    "        result.loc[cnt, 'num_shares'] = num_shares\n",
    "        stop_loss_price = 0\n",
    "        signal = '0'\n",
    "    if signal == 'stop_loss':\n",
    "        result.loc[cnt, 'share_price'] = stop_loss_price\n",
    "        money = money + num_shares * stop_loss_price\n",
    "        result.loc[cnt, 'cash'] = money\n",
    "        result.loc[cnt, 'num_shares'] = 0\n",
    "        result.loc[cnt, 'share_value'] = 0\n",
    "        num_shares = 0\n",
    "        result.loc[cnt, 'num_shares'] = num_shares\n",
    "        stop_loss_price = 0 \n",
    "        signal = '0'\n",
    "    if signal == 'buy':\n",
    "        result.loc[cnt, 'share_price'] = data.loc[i, 'open']\n",
    "        num_shares = money // result.loc[cnt, 'share_price']\n",
    "        result.loc[cnt, 'num_shares'] = num_shares\n",
    "        stop_loss_price  =  (1 - stop_loss / 100) * result.loc[cnt, 'share_price']\n",
    "        money = round(money - result.loc[cnt, 'num_shares'] * result.loc[cnt, 'share_price'], 2)\n",
    "        result.loc[cnt, 'cash'] = money\n",
    "        result.loc[cnt, 'share_value'] = num_shares * result.loc[cnt, 'share_price']\n",
    "        signal = '0'\n",
    "    if stop_loss_price != 0 and data.loc[i, 'low'] < stop_loss_price:\n",
    "        signal = 'stop_loss'\n",
    "    if signal == 'sig_buy':\n",
    "        result.loc[cnt, 'cash'] = money\n",
    "        result.loc[cnt, 'num_shares'] = 0\n",
    "        result.loc[cnt, 'share_value'] = 0\n",
    "        signal = 'buy'\n",
    "    if signal == 'sig_sale':\n",
    "        result.loc[cnt, 'cash'] = money\n",
    "        result.loc[cnt, 'num_shares'] = num_shares\n",
    "        result.loc[cnt, 'share_value'] = num_shares * result.loc[cnt, 'share_price']\n",
    "        signal = 'sale'\n",
    "    cnt += 1\n",
    "    previous_date = i\n",
    "result\n",
    "\n",
    "        \n",
    "    "
   ]
  },
  {
   "cell_type": "markdown",
   "id": "fde43443",
   "metadata": {},
   "source": [
    "Считаем итоговые результаты"
   ]
  },
  {
   "cell_type": "code",
   "execution_count": 38,
   "id": "30b20a67",
   "metadata": {},
   "outputs": [
    {
     "name": "stdout",
     "output_type": "stream",
     "text": [
      "65.53\n",
      "-99.99%\n"
     ]
    }
   ],
   "source": [
    "for index, row in result.iloc[::-1].iterrows():\n",
    "    if result.loc[index, 'signal'] == 'sale' or result.loc[index, 'signal'] == 'stop_loss':\n",
    "        final_cash = result.loc[index, 'cash']\n",
    "        break\n",
    "print(final_cash)\n",
    "print(f\"{((final_cash - 1_000_000) / 1_000_000 * 100):.2f}%\")"
   ]
  },
  {
   "cell_type": "markdown",
   "id": "ec4710ea",
   "metadata": {},
   "source": [
    "Получилось отлично! Торговый бот набрал 150 процентов и поднял капитал аж до 2.5 миллионов рублей. Вот бы реально я бы такого в 2015 поставил торговать акциями аэрофлота..."
   ]
  },
  {
   "cell_type": "markdown",
   "id": "74318665",
   "metadata": {},
   "source": [
    "Визуализация. Используем plotly. Сначала записываем сигналы затем проходимся по ним. Создаем 2 графика добавляем на них маркеры и средние.\n"
   ]
  },
  {
   "cell_type": "code",
   "execution_count": 39,
   "id": "8768189a",
   "metadata": {},
   "outputs": [
    {
     "data": {
      "application/vnd.plotly.v1+json": {
       "config": {
        "plotlyServerURL": "https://plot.ly"
       },
       "data": [
        {
         "close": {
          "bdata": "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",
          "dtype": "f8"
         },
         "high": {
          "bdata": "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",
          "dtype": "f8"
         },
         "low": {
          "bdata": "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",
          "dtype": "f8"
         },
         "name": "Свечи",
         "open": {
          "bdata": "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",
          "dtype": "f8"
         },
         "type": "candlestick",
         "x": [
          "2024-08-26T00:00:00",
          "2024-08-27T00:00:00",
          "2024-08-28T00:00:00",
          "2024-08-29T00:00:00",
          "2024-08-30T00:00:00",
          "2024-09-02T00:00:00",
          "2024-09-03T00:00:00",
          "2024-09-04T00:00:00",
          "2024-09-05T00:00:00",
          "2024-09-06T00:00:00",
          "2024-09-09T00:00:00",
          "2024-09-10T00:00:00",
          "2024-09-11T00:00:00",
          "2024-09-12T00:00:00",
          "2024-09-13T00:00:00",
          "2024-09-16T00:00:00",
          "2024-09-17T00:00:00",
          "2024-09-18T00:00:00",
          "2024-09-19T00:00:00",
          "2024-09-20T00:00:00",
          "2024-09-23T00:00:00",
          "2024-09-24T00:00:00",
          "2024-09-25T00:00:00",
          "2024-09-26T00:00:00",
          "2024-09-27T00:00:00",
          "2024-09-30T00:00:00",
          "2024-10-01T00:00:00",
          "2024-10-02T00:00:00",
          "2024-10-03T00:00:00",
          "2024-10-04T00:00:00",
          "2024-10-07T00:00:00",
          "2024-10-08T00:00:00",
          "2024-10-09T00:00:00",
          "2024-10-10T00:00:00",
          "2024-10-11T00:00:00",
          "2024-10-14T00:00:00",
          "2024-10-15T00:00:00",
          "2024-10-16T00:00:00",
          "2024-10-17T00:00:00",
          "2024-10-18T00:00:00",
          "2024-10-21T00:00:00",
          "2024-10-22T00:00:00",
          "2024-10-23T00:00:00",
          "2024-10-24T00:00:00",
          "2024-10-25T00:00:00",
          "2024-10-28T00:00:00",
          "2024-10-29T00:00:00",
          "2024-10-30T00:00:00",
          "2024-10-31T00:00:00",
          "2024-11-01T00:00:00",
          "2024-11-02T00:00:00",
          "2024-11-05T00:00:00",
          "2024-11-06T00:00:00",
          "2024-11-07T00:00:00",
          "2024-11-08T00:00:00",
          "2024-11-11T00:00:00",
          "2024-11-12T00:00:00",
          "2024-11-13T00:00:00",
          "2024-11-14T00:00:00",
          "2024-11-15T00:00:00",
          "2024-11-18T00:00:00",
          "2024-11-19T00:00:00",
          "2024-11-20T00:00:00",
          "2024-11-21T00:00:00",
          "2024-11-22T00:00:00",
          "2024-11-25T00:00:00",
          "2024-11-26T00:00:00",
          "2024-11-27T00:00:00",
          "2024-11-28T00:00:00",
          "2024-11-29T00:00:00",
          "2024-12-02T00:00:00",
          "2024-12-03T00:00:00",
          "2024-12-04T00:00:00",
          "2024-12-05T00:00:00",
          "2024-12-06T00:00:00",
          "2024-12-09T00:00:00",
          "2024-12-10T00:00:00",
          "2024-12-11T00:00:00",
          "2024-12-12T00:00:00",
          "2024-12-13T00:00:00",
          "2024-12-16T00:00:00",
          "2024-12-17T00:00:00",
          "2024-12-18T00:00:00",
          "2024-12-19T00:00:00",
          "2024-12-20T00:00:00",
          "2024-12-23T00:00:00",
          "2024-12-24T00:00:00",
          "2024-12-25T00:00:00",
          "2024-12-26T00:00:00",
          "2024-12-27T00:00:00",
          "2024-12-28T00:00:00",
          "2024-12-30T00:00:00",
          "2025-01-03T00:00:00",
          "2025-01-06T00:00:00",
          "2025-01-08T00:00:00",
          "2025-01-09T00:00:00",
          "2025-01-10T00:00:00",
          "2025-01-13T00:00:00",
          "2025-01-14T00:00:00",
          "2025-01-15T00:00:00",
          "2025-01-16T00:00:00",
          "2025-01-17T00:00:00",
          "2025-01-20T00:00:00",
          "2025-01-21T00:00:00",
          "2025-01-22T00:00:00",
          "2025-01-23T00:00:00",
          "2025-01-24T00:00:00",
          "2025-01-27T00:00:00",
          "2025-01-28T00:00:00",
          "2025-01-29T00:00:00",
          "2025-01-30T00:00:00",
          "2025-01-31T00:00:00",
          "2025-02-03T00:00:00",
          "2025-02-04T00:00:00",
          "2025-02-05T00:00:00",
          "2025-02-06T00:00:00",
          "2025-02-07T00:00:00",
          "2025-02-10T00:00:00",
          "2025-02-11T00:00:00",
          "2025-02-12T00:00:00",
          "2025-02-13T00:00:00",
          "2025-02-14T00:00:00",
          "2025-02-17T00:00:00",
          "2025-02-18T00:00:00",
          "2025-02-19T00:00:00",
          "2025-02-20T00:00:00",
          "2025-02-21T00:00:00",
          "2025-02-24T00:00:00",
          "2025-02-25T00:00:00",
          "2025-02-26T00:00:00",
          "2025-02-27T00:00:00",
          "2025-02-28T00:00:00",
          "2025-03-01T00:00:00",
          "2025-03-02T00:00:00",
          "2025-03-03T00:00:00",
          "2025-03-04T00:00:00",
          "2025-03-05T00:00:00",
          "2025-03-06T00:00:00",
          "2025-03-07T00:00:00",
          "2025-03-10T00:00:00",
          "2025-03-11T00:00:00",
          "2025-03-12T00:00:00",
          "2025-03-13T00:00:00",
          "2025-03-14T00:00:00",
          "2025-03-15T00:00:00",
          "2025-03-16T00:00:00",
          "2025-03-17T00:00:00",
          "2025-03-18T00:00:00",
          "2025-03-19T00:00:00",
          "2025-03-20T00:00:00",
          "2025-03-21T00:00:00",
          "2025-03-24T00:00:00",
          "2025-03-25T00:00:00",
          "2025-03-26T00:00:00",
          "2025-03-27T00:00:00",
          "2025-03-28T00:00:00",
          "2025-03-29T00:00:00",
          "2025-03-30T00:00:00",
          "2025-03-31T00:00:00",
          "2025-04-01T00:00:00",
          "2025-04-02T00:00:00",
          "2025-04-03T00:00:00",
          "2025-04-04T00:00:00",
          "2025-04-05T00:00:00",
          "2025-04-06T00:00:00",
          "2025-04-07T00:00:00",
          "2025-04-08T00:00:00",
          "2025-04-09T00:00:00",
          "2025-04-10T00:00:00",
          "2025-04-11T00:00:00",
          "2025-04-12T00:00:00",
          "2025-04-13T00:00:00",
          "2025-04-14T00:00:00",
          "2025-04-15T00:00:00",
          "2025-04-16T00:00:00",
          "2025-04-17T00:00:00",
          "2025-04-18T00:00:00",
          "2025-04-21T00:00:00",
          "2025-04-22T00:00:00",
          "2025-04-23T00:00:00",
          "2025-04-24T00:00:00",
          "2025-04-25T00:00:00",
          "2025-04-26T00:00:00",
          "2025-04-27T00:00:00",
          "2025-04-28T00:00:00",
          "2025-04-29T00:00:00",
          "2025-04-30T00:00:00",
          "2025-05-02T00:00:00",
          "2025-05-03T00:00:00",
          "2025-05-04T00:00:00",
          "2025-05-05T00:00:00",
          "2025-05-06T00:00:00",
          "2025-05-07T00:00:00",
          "2025-05-08T00:00:00",
          "2025-05-10T00:00:00",
          "2025-05-11T00:00:00",
          "2025-05-12T00:00:00",
          "2025-05-13T00:00:00",
          "2025-05-14T00:00:00",
          "2025-05-15T00:00:00",
          "2025-05-16T00:00:00",
          "2025-05-17T00:00:00",
          "2025-05-18T00:00:00",
          "2025-05-19T00:00:00",
          "2025-05-20T00:00:00",
          "2025-05-21T00:00:00",
          "2025-05-22T00:00:00",
          "2025-05-23T00:00:00",
          "2025-05-26T00:00:00",
          "2025-05-27T00:00:00",
          "2025-05-28T00:00:00",
          "2025-05-29T00:00:00",
          "2025-05-30T00:00:00",
          "2025-05-31T00:00:00",
          "2025-06-01T00:00:00"
         ],
         "xaxis": "x",
         "yaxis": "y"
        },
        {
         "line": {
          "color": "blue",
          "width": 1.5
         },
         "mode": "lines",
         "name": "MA30",
         "type": "scatter",
         "x": [
          "2024-08-26T00:00:00",
          "2024-08-27T00:00:00",
          "2024-08-28T00:00:00",
          "2024-08-29T00:00:00",
          "2024-08-30T00:00:00",
          "2024-09-02T00:00:00",
          "2024-09-03T00:00:00",
          "2024-09-04T00:00:00",
          "2024-09-05T00:00:00",
          "2024-09-06T00:00:00",
          "2024-09-09T00:00:00",
          "2024-09-10T00:00:00",
          "2024-09-11T00:00:00",
          "2024-09-12T00:00:00",
          "2024-09-13T00:00:00",
          "2024-09-16T00:00:00",
          "2024-09-17T00:00:00",
          "2024-09-18T00:00:00",
          "2024-09-19T00:00:00",
          "2024-09-20T00:00:00",
          "2024-09-23T00:00:00",
          "2024-09-24T00:00:00",
          "2024-09-25T00:00:00",
          "2024-09-26T00:00:00",
          "2024-09-27T00:00:00",
          "2024-09-30T00:00:00",
          "2024-10-01T00:00:00",
          "2024-10-02T00:00:00",
          "2024-10-03T00:00:00",
          "2024-10-04T00:00:00",
          "2024-10-07T00:00:00",
          "2024-10-08T00:00:00",
          "2024-10-09T00:00:00",
          "2024-10-10T00:00:00",
          "2024-10-11T00:00:00",
          "2024-10-14T00:00:00",
          "2024-10-15T00:00:00",
          "2024-10-16T00:00:00",
          "2024-10-17T00:00:00",
          "2024-10-18T00:00:00",
          "2024-10-21T00:00:00",
          "2024-10-22T00:00:00",
          "2024-10-23T00:00:00",
          "2024-10-24T00:00:00",
          "2024-10-25T00:00:00",
          "2024-10-28T00:00:00",
          "2024-10-29T00:00:00",
          "2024-10-30T00:00:00",
          "2024-10-31T00:00:00",
          "2024-11-01T00:00:00",
          "2024-11-02T00:00:00",
          "2024-11-05T00:00:00",
          "2024-11-06T00:00:00",
          "2024-11-07T00:00:00",
          "2024-11-08T00:00:00",
          "2024-11-11T00:00:00",
          "2024-11-12T00:00:00",
          "2024-11-13T00:00:00",
          "2024-11-14T00:00:00",
          "2024-11-15T00:00:00",
          "2024-11-18T00:00:00",
          "2024-11-19T00:00:00",
          "2024-11-20T00:00:00",
          "2024-11-21T00:00:00",
          "2024-11-22T00:00:00",
          "2024-11-25T00:00:00",
          "2024-11-26T00:00:00",
          "2024-11-27T00:00:00",
          "2024-11-28T00:00:00",
          "2024-11-29T00:00:00",
          "2024-12-02T00:00:00",
          "2024-12-03T00:00:00",
          "2024-12-04T00:00:00",
          "2024-12-05T00:00:00",
          "2024-12-06T00:00:00",
          "2024-12-09T00:00:00",
          "2024-12-10T00:00:00",
          "2024-12-11T00:00:00",
          "2024-12-12T00:00:00",
          "2024-12-13T00:00:00",
          "2024-12-16T00:00:00",
          "2024-12-17T00:00:00",
          "2024-12-18T00:00:00",
          "2024-12-19T00:00:00",
          "2024-12-20T00:00:00",
          "2024-12-23T00:00:00",
          "2024-12-24T00:00:00",
          "2024-12-25T00:00:00",
          "2024-12-26T00:00:00",
          "2024-12-27T00:00:00",
          "2024-12-28T00:00:00",
          "2024-12-30T00:00:00",
          "2025-01-03T00:00:00",
          "2025-01-06T00:00:00",
          "2025-01-08T00:00:00",
          "2025-01-09T00:00:00",
          "2025-01-10T00:00:00",
          "2025-01-13T00:00:00",
          "2025-01-14T00:00:00",
          "2025-01-15T00:00:00",
          "2025-01-16T00:00:00",
          "2025-01-17T00:00:00",
          "2025-01-20T00:00:00",
          "2025-01-21T00:00:00",
          "2025-01-22T00:00:00",
          "2025-01-23T00:00:00",
          "2025-01-24T00:00:00",
          "2025-01-27T00:00:00",
          "2025-01-28T00:00:00",
          "2025-01-29T00:00:00",
          "2025-01-30T00:00:00",
          "2025-01-31T00:00:00",
          "2025-02-03T00:00:00",
          "2025-02-04T00:00:00",
          "2025-02-05T00:00:00",
          "2025-02-06T00:00:00",
          "2025-02-07T00:00:00",
          "2025-02-10T00:00:00",
          "2025-02-11T00:00:00",
          "2025-02-12T00:00:00",
          "2025-02-13T00:00:00",
          "2025-02-14T00:00:00",
          "2025-02-17T00:00:00",
          "2025-02-18T00:00:00",
          "2025-02-19T00:00:00",
          "2025-02-20T00:00:00",
          "2025-02-21T00:00:00",
          "2025-02-24T00:00:00",
          "2025-02-25T00:00:00",
          "2025-02-26T00:00:00",
          "2025-02-27T00:00:00",
          "2025-02-28T00:00:00",
          "2025-03-01T00:00:00",
          "2025-03-02T00:00:00",
          "2025-03-03T00:00:00",
          "2025-03-04T00:00:00",
          "2025-03-05T00:00:00",
          "2025-03-06T00:00:00",
          "2025-03-07T00:00:00",
          "2025-03-10T00:00:00",
          "2025-03-11T00:00:00",
          "2025-03-12T00:00:00",
          "2025-03-13T00:00:00",
          "2025-03-14T00:00:00",
          "2025-03-15T00:00:00",
          "2025-03-16T00:00:00",
          "2025-03-17T00:00:00",
          "2025-03-18T00:00:00",
          "2025-03-19T00:00:00",
          "2025-03-20T00:00:00",
          "2025-03-21T00:00:00",
          "2025-03-24T00:00:00",
          "2025-03-25T00:00:00",
          "2025-03-26T00:00:00",
          "2025-03-27T00:00:00",
          "2025-03-28T00:00:00",
          "2025-03-29T00:00:00",
          "2025-03-30T00:00:00",
          "2025-03-31T00:00:00",
          "2025-04-01T00:00:00",
          "2025-04-02T00:00:00",
          "2025-04-03T00:00:00",
          "2025-04-04T00:00:00",
          "2025-04-05T00:00:00",
          "2025-04-06T00:00:00",
          "2025-04-07T00:00:00",
          "2025-04-08T00:00:00",
          "2025-04-09T00:00:00",
          "2025-04-10T00:00:00",
          "2025-04-11T00:00:00",
          "2025-04-12T00:00:00",
          "2025-04-13T00:00:00",
          "2025-04-14T00:00:00",
          "2025-04-15T00:00:00",
          "2025-04-16T00:00:00",
          "2025-04-17T00:00:00",
          "2025-04-18T00:00:00",
          "2025-04-21T00:00:00",
          "2025-04-22T00:00:00",
          "2025-04-23T00:00:00",
          "2025-04-24T00:00:00",
          "2025-04-25T00:00:00",
          "2025-04-26T00:00:00",
          "2025-04-27T00:00:00",
          "2025-04-28T00:00:00",
          "2025-04-29T00:00:00",
          "2025-04-30T00:00:00",
          "2025-05-02T00:00:00",
          "2025-05-03T00:00:00",
          "2025-05-04T00:00:00",
          "2025-05-05T00:00:00",
          "2025-05-06T00:00:00",
          "2025-05-07T00:00:00",
          "2025-05-08T00:00:00",
          "2025-05-10T00:00:00",
          "2025-05-11T00:00:00",
          "2025-05-12T00:00:00",
          "2025-05-13T00:00:00",
          "2025-05-14T00:00:00",
          "2025-05-15T00:00:00",
          "2025-05-16T00:00:00",
          "2025-05-17T00:00:00",
          "2025-05-18T00:00:00",
          "2025-05-19T00:00:00",
          "2025-05-20T00:00:00",
          "2025-05-21T00:00:00",
          "2025-05-22T00:00:00",
          "2025-05-23T00:00:00",
          "2025-05-26T00:00:00",
          "2025-05-27T00:00:00",
          "2025-05-28T00:00:00",
          "2025-05-29T00:00:00",
          "2025-05-30T00:00:00",
          "2025-05-31T00:00:00",
          "2025-06-01T00:00:00"
         ],
         "xaxis": "x",
         "y": {
          "bdata": "AAAAAAAA+H8AAAAAAAD4fwAAAAAAAPh/AAAAAAAA+H8AAAAAAAD4fwAAAAAAAPh/AAAAAAAA+H8AAAAAAAD4fwAAAAAAAPh/AAAAAAAA+H8AAAAAAAD4fwAAAAAAAPh/AAAAAAAA+H8AAAAAAAD4fwAAAAAAAPh/AAAAAAAA+H8AAAAAAAD4fwAAAAAAAPh/AAAAAAAA+H8AAAAAAAD4fwAAAAAAAPh/AAAAAAAA+H8AAAAAAAD4fwAAAAAAAPh/AAAAAAAA+H8AAAAAAAD4fwAAAAAAAPh/AAAAAAAA+H8AAAAAAAD4f6ZUnH34PElAjGzn+6lRSUCTXyz5xWJJQE/UvxHKeElA5on6N0KJSUD9YskvlpxJQCvOPnyGvUlAfrHkF0vuSUBhV4Dcax5KQF4Bcq+5QEpAMN0kBoFlSkDNzMzMzIxKQMXZh8+wq0pAt2WtjgnOSkBQjZduEvNKQJVDi2znG0tA8tJNYhA4S0BMfrHkF0tLQO/u7u7uXktA9P3UeOlmS0Dl0CLb+W5LQNejcD0Kd0tAvuZC0pR6S0BOqTj78IlLQPnFkl8smUtAPVH/RiizS0De3d3d3c1LQF0Bcq+58EtA4Ahl9LYMTEC8AuReczFMQMm95kLSVExATak4+/B5TECuR+F6FJ5MQEJg5dAiu0xAXI/C9SjMTEDxYJ6of+NMQBSuR+F69ExAM3pb1ur4TEC/nxov3fRMQGmR7Xw/9UxAyXa+nxrvTEBtLiRNqdhMQL7mQtKUukxA698IZfSWTECF61G4HnVMQJzEILByWExAFiD3mgtJTEAQn2FXgDxMQEPSlIqzH0xA11xImlIRTEBtLiRNqfhLQKl/I5TR20tAgZVDi2y3S0DW6pjgwYxLQIHcay4kbUtA9ihcj8JFS0A830+Nly5LQDr78Bl2FUtAgZVDi2z3SkAXkqZUnN1KQCxA7jUXwkpAxGfYFSCnSkDRItv5fppKQNnO91PjlUpA9ihcj8KVSkAg95oLSZNKQNV46SYxmEpAlBgEVg6dSkBJmlJx9rFKQG8Sg8DKwUpAtTomeDDfSkBqA5020AlLQBdLfrHkN0tAuddcSJpyS0CvALnXXKhLQN+WtTom2EtA5/up8dL9S0Ck4uzDZyhMQOAIZfS2XExA35a1OiaITEA730+Nl75MQKGM3pa1+kxAIPeaC0lDTUCKsw+fYYdNQOwKkHvNxU1AxdmHz7D7TUBvEoPAyiFOQKFFtvP9RE5AdQXIveZyTkB56SYxCJxOQDn78Bl2xU5AObTIdr7/TkC8dJMYBCZPQJTR27JWV09AyXa+nxqfT0BTKs4+fNZPQMrobVmrC1BAiUFg5dAyUEDkXnMhaVJQQC/dJAaBdVBAu0kMAiuXUECVirMPn7FQQPkMuwLkxlBA5dAi2/neUEA/fIZdAfpQQDVeukkMElFATPBgnqgvUUBxPQrXo1BRQGfYFSD3alFA57SBThuIUUB1kxgEVqZRQBYg95oLwVFA9Shcj8LVUUCGXQFyr+lRQA502kCn/VFA698IZfQWUkB66SYxCCxSQPxiyS+WRFJAQO41F5JeUkD7N0IZvXVSQEX9G6GMjlJAvLu7u7ubUkBGb8taHatSQC8kTak4s1JAl24Sg8CyUkArzj58hrVSQMOuALnXrFJABjptoNOWUkBvEoPAyoFSQOBPjZdualJA1jHBg3laUkAmeDBP1EdSQFH/RiijP1JAcyFpSsU5UkBqA5020ClSQAG511xIGlJAAiuHFtkGUkCzVscED+5RQEpTKs4+1FFAImlKxdnHUUAtsp3vp7ZRQBq9LWt1rFFA8Rl2BcilUUBNqTj78KFRQDSl4uzDl1FAGr0ta3WMUUDrmODBPIFRQNv5fmq8dFFAvS1rdUxoUUBDi2zn+2FRQKRwPQrXW1FAku18PzVWUUAmeDBP1E9RQHtb1uqYUFFAxks3iUFQUUAlBoGVQ1NRQFnyiyW/WFFAVscED+ZhUUBy9uEz7GpRQCa/WPKLbVFAodMGOm1oUUBMN4lBYG1RQCOU0duyblFAME/UvxFqUUCfqH8jlHFRQF66SQwCe1FAJngwT9SHUUASg8DKoZVRQEx+seQXq1FAMU/UvxGyUUDvNReSprRRQI8JHswTtVFALmt1TPCwUUBsLiRNqbBRQFpkO99PtVFA+Qy7AuS2UUD2KFyPwrVRQKnGSzeJsVFAfT81XrqpUUC9dJMYBJ5RQBkEVg4tilFABci95kJ6UUCOl24Sg3BRQHWTGARWXlFAfT81XrpRUUDUBjptoENRQA==",
          "dtype": "f8"
         },
         "yaxis": "y"
        },
        {
         "line": {
          "color": "orange",
          "width": 1.5
         },
         "mode": "lines",
         "name": "MA90",
         "type": "scatter",
         "x": [
          "2024-08-26T00:00:00",
          "2024-08-27T00:00:00",
          "2024-08-28T00:00:00",
          "2024-08-29T00:00:00",
          "2024-08-30T00:00:00",
          "2024-09-02T00:00:00",
          "2024-09-03T00:00:00",
          "2024-09-04T00:00:00",
          "2024-09-05T00:00:00",
          "2024-09-06T00:00:00",
          "2024-09-09T00:00:00",
          "2024-09-10T00:00:00",
          "2024-09-11T00:00:00",
          "2024-09-12T00:00:00",
          "2024-09-13T00:00:00",
          "2024-09-16T00:00:00",
          "2024-09-17T00:00:00",
          "2024-09-18T00:00:00",
          "2024-09-19T00:00:00",
          "2024-09-20T00:00:00",
          "2024-09-23T00:00:00",
          "2024-09-24T00:00:00",
          "2024-09-25T00:00:00",
          "2024-09-26T00:00:00",
          "2024-09-27T00:00:00",
          "2024-09-30T00:00:00",
          "2024-10-01T00:00:00",
          "2024-10-02T00:00:00",
          "2024-10-03T00:00:00",
          "2024-10-04T00:00:00",
          "2024-10-07T00:00:00",
          "2024-10-08T00:00:00",
          "2024-10-09T00:00:00",
          "2024-10-10T00:00:00",
          "2024-10-11T00:00:00",
          "2024-10-14T00:00:00",
          "2024-10-15T00:00:00",
          "2024-10-16T00:00:00",
          "2024-10-17T00:00:00",
          "2024-10-18T00:00:00",
          "2024-10-21T00:00:00",
          "2024-10-22T00:00:00",
          "2024-10-23T00:00:00",
          "2024-10-24T00:00:00",
          "2024-10-25T00:00:00",
          "2024-10-28T00:00:00",
          "2024-10-29T00:00:00",
          "2024-10-30T00:00:00",
          "2024-10-31T00:00:00",
          "2024-11-01T00:00:00",
          "2024-11-02T00:00:00",
          "2024-11-05T00:00:00",
          "2024-11-06T00:00:00",
          "2024-11-07T00:00:00",
          "2024-11-08T00:00:00",
          "2024-11-11T00:00:00",
          "2024-11-12T00:00:00",
          "2024-11-13T00:00:00",
          "2024-11-14T00:00:00",
          "2024-11-15T00:00:00",
          "2024-11-18T00:00:00",
          "2024-11-19T00:00:00",
          "2024-11-20T00:00:00",
          "2024-11-21T00:00:00",
          "2024-11-22T00:00:00",
          "2024-11-25T00:00:00",
          "2024-11-26T00:00:00",
          "2024-11-27T00:00:00",
          "2024-11-28T00:00:00",
          "2024-11-29T00:00:00",
          "2024-12-02T00:00:00",
          "2024-12-03T00:00:00",
          "2024-12-04T00:00:00",
          "2024-12-05T00:00:00",
          "2024-12-06T00:00:00",
          "2024-12-09T00:00:00",
          "2024-12-10T00:00:00",
          "2024-12-11T00:00:00",
          "2024-12-12T00:00:00",
          "2024-12-13T00:00:00",
          "2024-12-16T00:00:00",
          "2024-12-17T00:00:00",
          "2024-12-18T00:00:00",
          "2024-12-19T00:00:00",
          "2024-12-20T00:00:00",
          "2024-12-23T00:00:00",
          "2024-12-24T00:00:00",
          "2024-12-25T00:00:00",
          "2024-12-26T00:00:00",
          "2024-12-27T00:00:00",
          "2024-12-28T00:00:00",
          "2024-12-30T00:00:00",
          "2025-01-03T00:00:00",
          "2025-01-06T00:00:00",
          "2025-01-08T00:00:00",
          "2025-01-09T00:00:00",
          "2025-01-10T00:00:00",
          "2025-01-13T00:00:00",
          "2025-01-14T00:00:00",
          "2025-01-15T00:00:00",
          "2025-01-16T00:00:00",
          "2025-01-17T00:00:00",
          "2025-01-20T00:00:00",
          "2025-01-21T00:00:00",
          "2025-01-22T00:00:00",
          "2025-01-23T00:00:00",
          "2025-01-24T00:00:00",
          "2025-01-27T00:00:00",
          "2025-01-28T00:00:00",
          "2025-01-29T00:00:00",
          "2025-01-30T00:00:00",
          "2025-01-31T00:00:00",
          "2025-02-03T00:00:00",
          "2025-02-04T00:00:00",
          "2025-02-05T00:00:00",
          "2025-02-06T00:00:00",
          "2025-02-07T00:00:00",
          "2025-02-10T00:00:00",
          "2025-02-11T00:00:00",
          "2025-02-12T00:00:00",
          "2025-02-13T00:00:00",
          "2025-02-14T00:00:00",
          "2025-02-17T00:00:00",
          "2025-02-18T00:00:00",
          "2025-02-19T00:00:00",
          "2025-02-20T00:00:00",
          "2025-02-21T00:00:00",
          "2025-02-24T00:00:00",
          "2025-02-25T00:00:00",
          "2025-02-26T00:00:00",
          "2025-02-27T00:00:00",
          "2025-02-28T00:00:00",
          "2025-03-01T00:00:00",
          "2025-03-02T00:00:00",
          "2025-03-03T00:00:00",
          "2025-03-04T00:00:00",
          "2025-03-05T00:00:00",
          "2025-03-06T00:00:00",
          "2025-03-07T00:00:00",
          "2025-03-10T00:00:00",
          "2025-03-11T00:00:00",
          "2025-03-12T00:00:00",
          "2025-03-13T00:00:00",
          "2025-03-14T00:00:00",
          "2025-03-15T00:00:00",
          "2025-03-16T00:00:00",
          "2025-03-17T00:00:00",
          "2025-03-18T00:00:00",
          "2025-03-19T00:00:00",
          "2025-03-20T00:00:00",
          "2025-03-21T00:00:00",
          "2025-03-24T00:00:00",
          "2025-03-25T00:00:00",
          "2025-03-26T00:00:00",
          "2025-03-27T00:00:00",
          "2025-03-28T00:00:00",
          "2025-03-29T00:00:00",
          "2025-03-30T00:00:00",
          "2025-03-31T00:00:00",
          "2025-04-01T00:00:00",
          "2025-04-02T00:00:00",
          "2025-04-03T00:00:00",
          "2025-04-04T00:00:00",
          "2025-04-05T00:00:00",
          "2025-04-06T00:00:00",
          "2025-04-07T00:00:00",
          "2025-04-08T00:00:00",
          "2025-04-09T00:00:00",
          "2025-04-10T00:00:00",
          "2025-04-11T00:00:00",
          "2025-04-12T00:00:00",
          "2025-04-13T00:00:00",
          "2025-04-14T00:00:00",
          "2025-04-15T00:00:00",
          "2025-04-16T00:00:00",
          "2025-04-17T00:00:00",
          "2025-04-18T00:00:00",
          "2025-04-21T00:00:00",
          "2025-04-22T00:00:00",
          "2025-04-23T00:00:00",
          "2025-04-24T00:00:00",
          "2025-04-25T00:00:00",
          "2025-04-26T00:00:00",
          "2025-04-27T00:00:00",
          "2025-04-28T00:00:00",
          "2025-04-29T00:00:00",
          "2025-04-30T00:00:00",
          "2025-05-02T00:00:00",
          "2025-05-03T00:00:00",
          "2025-05-04T00:00:00",
          "2025-05-05T00:00:00",
          "2025-05-06T00:00:00",
          "2025-05-07T00:00:00",
          "2025-05-08T00:00:00",
          "2025-05-10T00:00:00",
          "2025-05-11T00:00:00",
          "2025-05-12T00:00:00",
          "2025-05-13T00:00:00",
          "2025-05-14T00:00:00",
          "2025-05-15T00:00:00",
          "2025-05-16T00:00:00",
          "2025-05-17T00:00:00",
          "2025-05-18T00:00:00",
          "2025-05-19T00:00:00",
          "2025-05-20T00:00:00",
          "2025-05-21T00:00:00",
          "2025-05-22T00:00:00",
          "2025-05-23T00:00:00",
          "2025-05-26T00:00:00",
          "2025-05-27T00:00:00",
          "2025-05-28T00:00:00",
          "2025-05-29T00:00:00",
          "2025-05-30T00:00:00",
          "2025-05-31T00:00:00",
          "2025-06-01T00:00:00"
         ],
         "xaxis": "x",
         "y": {
          "bdata": "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",
          "dtype": "f8"
         },
         "yaxis": "y"
        },
        {
         "marker": {
          "color": "green",
          "size": 12,
          "symbol": "triangle-up"
         },
         "mode": "markers",
         "name": "Buy",
         "type": "scatter",
         "x": [
          "2025-01-23T00:00:00",
          "2025-05-03T00:00:00",
          "2025-05-14T00:00:00"
         ],
         "xaxis": "x",
         "y": {
          "bdata": "ryXkg571TUDlYaHWNLlQQGJ/2T15ulFA",
          "dtype": "f8"
         },
         "yaxis": "y"
        },
        {
         "marker": {
          "color": "red",
          "size": 12,
          "symbol": "triangle-down"
         },
         "mode": "markers",
         "name": "Sell",
         "type": "scatter",
         "x": [
          "2025-04-30T00:00:00"
         ],
         "xaxis": "x",
         "y": {
          "bdata": "l5APejbJUUA=",
          "dtype": "f8"
         },
         "yaxis": "y"
        },
        {
         "marker": {
          "color": "black",
          "size": 12,
          "symbol": "triangle-down"
         },
         "mode": "markers",
         "name": "Stop-loss",
         "type": "scatter",
         "x": [
          "2025-05-17T00:00:00"
         ],
         "xaxis": "x",
         "y": {
          "bdata": "dLD+z+ECUUA=",
          "dtype": "f8"
         },
         "yaxis": "y"
        },
        {
         "mode": "lines",
         "name": "Position",
         "type": "scatter",
         "x": [
          "2024-08-26T00:00:00",
          "2024-08-27T00:00:00",
          "2024-08-28T00:00:00",
          "2024-08-29T00:00:00",
          "2024-08-30T00:00:00",
          "2024-09-02T00:00:00",
          "2024-09-03T00:00:00",
          "2024-09-04T00:00:00",
          "2024-09-05T00:00:00",
          "2024-09-06T00:00:00",
          "2024-09-09T00:00:00",
          "2024-09-10T00:00:00",
          "2024-09-11T00:00:00",
          "2024-09-12T00:00:00",
          "2024-09-13T00:00:00",
          "2024-09-16T00:00:00",
          "2024-09-17T00:00:00",
          "2024-09-18T00:00:00",
          "2024-09-19T00:00:00",
          "2024-09-20T00:00:00",
          "2024-09-23T00:00:00",
          "2024-09-24T00:00:00",
          "2024-09-25T00:00:00",
          "2024-09-26T00:00:00",
          "2024-09-27T00:00:00",
          "2024-09-30T00:00:00",
          "2024-10-01T00:00:00",
          "2024-10-02T00:00:00",
          "2024-10-03T00:00:00",
          "2024-10-04T00:00:00",
          "2024-10-07T00:00:00",
          "2024-10-08T00:00:00",
          "2024-10-09T00:00:00",
          "2024-10-10T00:00:00",
          "2024-10-11T00:00:00",
          "2024-10-14T00:00:00",
          "2024-10-15T00:00:00",
          "2024-10-16T00:00:00",
          "2024-10-17T00:00:00",
          "2024-10-18T00:00:00",
          "2024-10-21T00:00:00",
          "2024-10-22T00:00:00",
          "2024-10-23T00:00:00",
          "2024-10-24T00:00:00",
          "2024-10-25T00:00:00",
          "2024-10-28T00:00:00",
          "2024-10-29T00:00:00",
          "2024-10-30T00:00:00",
          "2024-10-31T00:00:00",
          "2024-11-01T00:00:00",
          "2024-11-02T00:00:00",
          "2024-11-05T00:00:00",
          "2024-11-06T00:00:00",
          "2024-11-07T00:00:00",
          "2024-11-08T00:00:00",
          "2024-11-11T00:00:00",
          "2024-11-12T00:00:00",
          "2024-11-13T00:00:00",
          "2024-11-14T00:00:00",
          "2024-11-15T00:00:00",
          "2024-11-18T00:00:00",
          "2024-11-19T00:00:00",
          "2024-11-20T00:00:00",
          "2024-11-21T00:00:00",
          "2024-11-22T00:00:00",
          "2024-11-25T00:00:00",
          "2024-11-26T00:00:00",
          "2024-11-27T00:00:00",
          "2024-11-28T00:00:00",
          "2024-11-29T00:00:00",
          "2024-12-02T00:00:00",
          "2024-12-03T00:00:00",
          "2024-12-04T00:00:00",
          "2024-12-05T00:00:00",
          "2024-12-06T00:00:00",
          "2024-12-09T00:00:00",
          "2024-12-10T00:00:00",
          "2024-12-11T00:00:00",
          "2024-12-12T00:00:00",
          "2024-12-13T00:00:00",
          "2024-12-16T00:00:00",
          "2024-12-17T00:00:00",
          "2024-12-18T00:00:00",
          "2024-12-19T00:00:00",
          "2024-12-20T00:00:00",
          "2024-12-23T00:00:00",
          "2024-12-24T00:00:00",
          "2024-12-25T00:00:00",
          "2024-12-26T00:00:00",
          "2024-12-27T00:00:00",
          "2024-12-28T00:00:00",
          "2024-12-30T00:00:00",
          "2025-01-03T00:00:00",
          "2025-01-06T00:00:00",
          "2025-01-08T00:00:00",
          "2025-01-09T00:00:00",
          "2025-01-10T00:00:00",
          "2025-01-13T00:00:00",
          "2025-01-14T00:00:00",
          "2025-01-15T00:00:00",
          "2025-01-16T00:00:00",
          "2025-01-17T00:00:00",
          "2025-01-20T00:00:00",
          "2025-01-21T00:00:00",
          "2025-01-22T00:00:00",
          "2025-01-23T00:00:00",
          "2025-01-24T00:00:00",
          "2025-01-27T00:00:00",
          "2025-01-28T00:00:00",
          "2025-01-29T00:00:00",
          "2025-01-30T00:00:00",
          "2025-01-31T00:00:00",
          "2025-02-03T00:00:00",
          "2025-02-04T00:00:00",
          "2025-02-05T00:00:00",
          "2025-02-06T00:00:00",
          "2025-02-07T00:00:00",
          "2025-02-10T00:00:00",
          "2025-02-11T00:00:00",
          "2025-02-12T00:00:00",
          "2025-02-13T00:00:00",
          "2025-02-14T00:00:00",
          "2025-02-17T00:00:00",
          "2025-02-18T00:00:00",
          "2025-02-19T00:00:00",
          "2025-02-20T00:00:00",
          "2025-02-21T00:00:00",
          "2025-02-24T00:00:00",
          "2025-02-25T00:00:00",
          "2025-02-26T00:00:00",
          "2025-02-27T00:00:00",
          "2025-02-28T00:00:00",
          "2025-03-01T00:00:00",
          "2025-03-02T00:00:00",
          "2025-03-03T00:00:00",
          "2025-03-04T00:00:00",
          "2025-03-05T00:00:00",
          "2025-03-06T00:00:00",
          "2025-03-07T00:00:00",
          "2025-03-10T00:00:00",
          "2025-03-11T00:00:00",
          "2025-03-12T00:00:00",
          "2025-03-13T00:00:00",
          "2025-03-14T00:00:00",
          "2025-03-15T00:00:00",
          "2025-03-16T00:00:00",
          "2025-03-17T00:00:00",
          "2025-03-18T00:00:00",
          "2025-03-19T00:00:00",
          "2025-03-20T00:00:00",
          "2025-03-21T00:00:00",
          "2025-03-24T00:00:00",
          "2025-03-25T00:00:00",
          "2025-03-26T00:00:00",
          "2025-03-27T00:00:00",
          "2025-03-28T00:00:00",
          "2025-03-29T00:00:00",
          "2025-03-30T00:00:00",
          "2025-03-31T00:00:00",
          "2025-04-01T00:00:00",
          "2025-04-02T00:00:00",
          "2025-04-03T00:00:00",
          "2025-04-04T00:00:00",
          "2025-04-05T00:00:00",
          "2025-04-06T00:00:00",
          "2025-04-07T00:00:00",
          "2025-04-08T00:00:00",
          "2025-04-09T00:00:00",
          "2025-04-10T00:00:00",
          "2025-04-11T00:00:00",
          "2025-04-12T00:00:00",
          "2025-04-13T00:00:00",
          "2025-04-14T00:00:00",
          "2025-04-15T00:00:00",
          "2025-04-16T00:00:00",
          "2025-04-17T00:00:00",
          "2025-04-18T00:00:00",
          "2025-04-21T00:00:00",
          "2025-04-22T00:00:00",
          "2025-04-23T00:00:00",
          "2025-04-24T00:00:00",
          "2025-04-25T00:00:00",
          "2025-04-26T00:00:00",
          "2025-04-27T00:00:00",
          "2025-04-28T00:00:00",
          "2025-04-29T00:00:00",
          "2025-04-30T00:00:00",
          "2025-05-02T00:00:00",
          "2025-05-03T00:00:00",
          "2025-05-04T00:00:00",
          "2025-05-05T00:00:00",
          "2025-05-06T00:00:00",
          "2025-05-07T00:00:00",
          "2025-05-08T00:00:00",
          "2025-05-10T00:00:00",
          "2025-05-11T00:00:00",
          "2025-05-12T00:00:00",
          "2025-05-13T00:00:00",
          "2025-05-14T00:00:00",
          "2025-05-15T00:00:00",
          "2025-05-16T00:00:00",
          "2025-05-17T00:00:00",
          "2025-05-18T00:00:00",
          "2025-05-19T00:00:00",
          "2025-05-20T00:00:00",
          "2025-05-21T00:00:00",
          "2025-05-22T00:00:00",
          "2025-05-23T00:00:00",
          "2025-05-26T00:00:00",
          "2025-05-27T00:00:00",
          "2025-05-28T00:00:00",
          "2025-05-29T00:00:00",
          "2025-05-30T00:00:00",
          "2025-05-31T00:00:00",
          "2025-06-01T00:00:00"
         ],
         "xaxis": "x2",
         "y": {
          "bdata": "AAAAAAAAAAAAAAAAAAAAAAAAAAAAAAAAAAAAAAAAAAAAAAAAAAAAAAAAAAAAAAAAAAAAAAAAAAAAAAAAAAAAAAAAAAAAAAAAAAAAAAAAAAAAAAAAAAAAAAAAAAAAAAAAAAAAAAAAAAAAAQEBAQEBAQEBAQEBAQEBAQEBAQEBAQEBAQEBAQEBAQEBAQEBAQEBAQEBAQEBAQEBAQEBAQEBAQEBAQEBAQEBAQEBAQEBAQEBAQEBAQEBAQEBAAABAQEBAQEBAQEBAQEBAAAAAAAAAAAAAAAAAAA=",
          "dtype": "i1"
         },
         "yaxis": "y2"
        }
       ],
       "layout": {
        "annotations": [
         {
          "font": {
           "size": 16
          },
          "showarrow": false,
          "text": "Цена и сигналы",
          "x": 0.5,
          "xanchor": "center",
          "xref": "paper",
          "y": 0.9999999999999999,
          "yanchor": "bottom",
          "yref": "paper"
         },
         {
          "font": {
           "size": 16
          },
          "showarrow": false,
          "text": "Позиция 0/1",
          "x": 0.5,
          "xanchor": "center",
          "xref": "paper",
          "y": 0.285,
          "yanchor": "bottom",
          "yref": "paper"
         }
        ],
        "height": 700,
        "showlegend": true,
        "template": {
         "data": {
          "bar": [
           {
            "error_x": {
             "color": "#2a3f5f"
            },
            "error_y": {
             "color": "#2a3f5f"
            },
            "marker": {
             "line": {
              "color": "#E5ECF6",
              "width": 0.5
             },
             "pattern": {
              "fillmode": "overlay",
              "size": 10,
              "solidity": 0.2
             }
            },
            "type": "bar"
           }
          ],
          "barpolar": [
           {
            "marker": {
             "line": {
              "color": "#E5ECF6",
              "width": 0.5
             },
             "pattern": {
              "fillmode": "overlay",
              "size": 10,
              "solidity": 0.2
             }
            },
            "type": "barpolar"
           }
          ],
          "carpet": [
           {
            "aaxis": {
             "endlinecolor": "#2a3f5f",
             "gridcolor": "white",
             "linecolor": "white",
             "minorgridcolor": "white",
             "startlinecolor": "#2a3f5f"
            },
            "baxis": {
             "endlinecolor": "#2a3f5f",
             "gridcolor": "white",
             "linecolor": "white",
             "minorgridcolor": "white",
             "startlinecolor": "#2a3f5f"
            },
            "type": "carpet"
           }
          ],
          "choropleth": [
           {
            "colorbar": {
             "outlinewidth": 0,
             "ticks": ""
            },
            "type": "choropleth"
           }
          ],
          "contour": [
           {
            "colorbar": {
             "outlinewidth": 0,
             "ticks": ""
            },
            "colorscale": [
             [
              0,
              "#0d0887"
             ],
             [
              0.1111111111111111,
              "#46039f"
             ],
             [
              0.2222222222222222,
              "#7201a8"
             ],
             [
              0.3333333333333333,
              "#9c179e"
             ],
             [
              0.4444444444444444,
              "#bd3786"
             ],
             [
              0.5555555555555556,
              "#d8576b"
             ],
             [
              0.6666666666666666,
              "#ed7953"
             ],
             [
              0.7777777777777778,
              "#fb9f3a"
             ],
             [
              0.8888888888888888,
              "#fdca26"
             ],
             [
              1,
              "#f0f921"
             ]
            ],
            "type": "contour"
           }
          ],
          "contourcarpet": [
           {
            "colorbar": {
             "outlinewidth": 0,
             "ticks": ""
            },
            "type": "contourcarpet"
           }
          ],
          "heatmap": [
           {
            "colorbar": {
             "outlinewidth": 0,
             "ticks": ""
            },
            "colorscale": [
             [
              0,
              "#0d0887"
             ],
             [
              0.1111111111111111,
              "#46039f"
             ],
             [
              0.2222222222222222,
              "#7201a8"
             ],
             [
              0.3333333333333333,
              "#9c179e"
             ],
             [
              0.4444444444444444,
              "#bd3786"
             ],
             [
              0.5555555555555556,
              "#d8576b"
             ],
             [
              0.6666666666666666,
              "#ed7953"
             ],
             [
              0.7777777777777778,
              "#fb9f3a"
             ],
             [
              0.8888888888888888,
              "#fdca26"
             ],
             [
              1,
              "#f0f921"
             ]
            ],
            "type": "heatmap"
           }
          ],
          "histogram": [
           {
            "marker": {
             "pattern": {
              "fillmode": "overlay",
              "size": 10,
              "solidity": 0.2
             }
            },
            "type": "histogram"
           }
          ],
          "histogram2d": [
           {
            "colorbar": {
             "outlinewidth": 0,
             "ticks": ""
            },
            "colorscale": [
             [
              0,
              "#0d0887"
             ],
             [
              0.1111111111111111,
              "#46039f"
             ],
             [
              0.2222222222222222,
              "#7201a8"
             ],
             [
              0.3333333333333333,
              "#9c179e"
             ],
             [
              0.4444444444444444,
              "#bd3786"
             ],
             [
              0.5555555555555556,
              "#d8576b"
             ],
             [
              0.6666666666666666,
              "#ed7953"
             ],
             [
              0.7777777777777778,
              "#fb9f3a"
             ],
             [
              0.8888888888888888,
              "#fdca26"
             ],
             [
              1,
              "#f0f921"
             ]
            ],
            "type": "histogram2d"
           }
          ],
          "histogram2dcontour": [
           {
            "colorbar": {
             "outlinewidth": 0,
             "ticks": ""
            },
            "colorscale": [
             [
              0,
              "#0d0887"
             ],
             [
              0.1111111111111111,
              "#46039f"
             ],
             [
              0.2222222222222222,
              "#7201a8"
             ],
             [
              0.3333333333333333,
              "#9c179e"
             ],
             [
              0.4444444444444444,
              "#bd3786"
             ],
             [
              0.5555555555555556,
              "#d8576b"
             ],
             [
              0.6666666666666666,
              "#ed7953"
             ],
             [
              0.7777777777777778,
              "#fb9f3a"
             ],
             [
              0.8888888888888888,
              "#fdca26"
             ],
             [
              1,
              "#f0f921"
             ]
            ],
            "type": "histogram2dcontour"
           }
          ],
          "mesh3d": [
           {
            "colorbar": {
             "outlinewidth": 0,
             "ticks": ""
            },
            "type": "mesh3d"
           }
          ],
          "parcoords": [
           {
            "line": {
             "colorbar": {
              "outlinewidth": 0,
              "ticks": ""
             }
            },
            "type": "parcoords"
           }
          ],
          "pie": [
           {
            "automargin": true,
            "type": "pie"
           }
          ],
          "scatter": [
           {
            "fillpattern": {
             "fillmode": "overlay",
             "size": 10,
             "solidity": 0.2
            },
            "type": "scatter"
           }
          ],
          "scatter3d": [
           {
            "line": {
             "colorbar": {
              "outlinewidth": 0,
              "ticks": ""
             }
            },
            "marker": {
             "colorbar": {
              "outlinewidth": 0,
              "ticks": ""
             }
            },
            "type": "scatter3d"
           }
          ],
          "scattercarpet": [
           {
            "marker": {
             "colorbar": {
              "outlinewidth": 0,
              "ticks": ""
             }
            },
            "type": "scattercarpet"
           }
          ],
          "scattergeo": [
           {
            "marker": {
             "colorbar": {
              "outlinewidth": 0,
              "ticks": ""
             }
            },
            "type": "scattergeo"
           }
          ],
          "scattergl": [
           {
            "marker": {
             "colorbar": {
              "outlinewidth": 0,
              "ticks": ""
             }
            },
            "type": "scattergl"
           }
          ],
          "scattermap": [
           {
            "marker": {
             "colorbar": {
              "outlinewidth": 0,
              "ticks": ""
             }
            },
            "type": "scattermap"
           }
          ],
          "scattermapbox": [
           {
            "marker": {
             "colorbar": {
              "outlinewidth": 0,
              "ticks": ""
             }
            },
            "type": "scattermapbox"
           }
          ],
          "scatterpolar": [
           {
            "marker": {
             "colorbar": {
              "outlinewidth": 0,
              "ticks": ""
             }
            },
            "type": "scatterpolar"
           }
          ],
          "scatterpolargl": [
           {
            "marker": {
             "colorbar": {
              "outlinewidth": 0,
              "ticks": ""
             }
            },
            "type": "scatterpolargl"
           }
          ],
          "scatterternary": [
           {
            "marker": {
             "colorbar": {
              "outlinewidth": 0,
              "ticks": ""
             }
            },
            "type": "scatterternary"
           }
          ],
          "surface": [
           {
            "colorbar": {
             "outlinewidth": 0,
             "ticks": ""
            },
            "colorscale": [
             [
              0,
              "#0d0887"
             ],
             [
              0.1111111111111111,
              "#46039f"
             ],
             [
              0.2222222222222222,
              "#7201a8"
             ],
             [
              0.3333333333333333,
              "#9c179e"
             ],
             [
              0.4444444444444444,
              "#bd3786"
             ],
             [
              0.5555555555555556,
              "#d8576b"
             ],
             [
              0.6666666666666666,
              "#ed7953"
             ],
             [
              0.7777777777777778,
              "#fb9f3a"
             ],
             [
              0.8888888888888888,
              "#fdca26"
             ],
             [
              1,
              "#f0f921"
             ]
            ],
            "type": "surface"
           }
          ],
          "table": [
           {
            "cells": {
             "fill": {
              "color": "#EBF0F8"
             },
             "line": {
              "color": "white"
             }
            },
            "header": {
             "fill": {
              "color": "#C8D4E3"
             },
             "line": {
              "color": "white"
             }
            },
            "type": "table"
           }
          ]
         },
         "layout": {
          "annotationdefaults": {
           "arrowcolor": "#2a3f5f",
           "arrowhead": 0,
           "arrowwidth": 1
          },
          "autotypenumbers": "strict",
          "coloraxis": {
           "colorbar": {
            "outlinewidth": 0,
            "ticks": ""
           }
          },
          "colorscale": {
           "diverging": [
            [
             0,
             "#8e0152"
            ],
            [
             0.1,
             "#c51b7d"
            ],
            [
             0.2,
             "#de77ae"
            ],
            [
             0.3,
             "#f1b6da"
            ],
            [
             0.4,
             "#fde0ef"
            ],
            [
             0.5,
             "#f7f7f7"
            ],
            [
             0.6,
             "#e6f5d0"
            ],
            [
             0.7,
             "#b8e186"
            ],
            [
             0.8,
             "#7fbc41"
            ],
            [
             0.9,
             "#4d9221"
            ],
            [
             1,
             "#276419"
            ]
           ],
           "sequential": [
            [
             0,
             "#0d0887"
            ],
            [
             0.1111111111111111,
             "#46039f"
            ],
            [
             0.2222222222222222,
             "#7201a8"
            ],
            [
             0.3333333333333333,
             "#9c179e"
            ],
            [
             0.4444444444444444,
             "#bd3786"
            ],
            [
             0.5555555555555556,
             "#d8576b"
            ],
            [
             0.6666666666666666,
             "#ed7953"
            ],
            [
             0.7777777777777778,
             "#fb9f3a"
            ],
            [
             0.8888888888888888,
             "#fdca26"
            ],
            [
             1,
             "#f0f921"
            ]
           ],
           "sequentialminus": [
            [
             0,
             "#0d0887"
            ],
            [
             0.1111111111111111,
             "#46039f"
            ],
            [
             0.2222222222222222,
             "#7201a8"
            ],
            [
             0.3333333333333333,
             "#9c179e"
            ],
            [
             0.4444444444444444,
             "#bd3786"
            ],
            [
             0.5555555555555556,
             "#d8576b"
            ],
            [
             0.6666666666666666,
             "#ed7953"
            ],
            [
             0.7777777777777778,
             "#fb9f3a"
            ],
            [
             0.8888888888888888,
             "#fdca26"
            ],
            [
             1,
             "#f0f921"
            ]
           ]
          },
          "colorway": [
           "#636efa",
           "#EF553B",
           "#00cc96",
           "#ab63fa",
           "#FFA15A",
           "#19d3f3",
           "#FF6692",
           "#B6E880",
           "#FF97FF",
           "#FECB52"
          ],
          "font": {
           "color": "#2a3f5f"
          },
          "geo": {
           "bgcolor": "white",
           "lakecolor": "white",
           "landcolor": "#E5ECF6",
           "showlakes": true,
           "showland": true,
           "subunitcolor": "white"
          },
          "hoverlabel": {
           "align": "left"
          },
          "hovermode": "closest",
          "mapbox": {
           "style": "light"
          },
          "paper_bgcolor": "white",
          "plot_bgcolor": "#E5ECF6",
          "polar": {
           "angularaxis": {
            "gridcolor": "white",
            "linecolor": "white",
            "ticks": ""
           },
           "bgcolor": "#E5ECF6",
           "radialaxis": {
            "gridcolor": "white",
            "linecolor": "white",
            "ticks": ""
           }
          },
          "scene": {
           "xaxis": {
            "backgroundcolor": "#E5ECF6",
            "gridcolor": "white",
            "gridwidth": 2,
            "linecolor": "white",
            "showbackground": true,
            "ticks": "",
            "zerolinecolor": "white"
           },
           "yaxis": {
            "backgroundcolor": "#E5ECF6",
            "gridcolor": "white",
            "gridwidth": 2,
            "linecolor": "white",
            "showbackground": true,
            "ticks": "",
            "zerolinecolor": "white"
           },
           "zaxis": {
            "backgroundcolor": "#E5ECF6",
            "gridcolor": "white",
            "gridwidth": 2,
            "linecolor": "white",
            "showbackground": true,
            "ticks": "",
            "zerolinecolor": "white"
           }
          },
          "shapedefaults": {
           "line": {
            "color": "#2a3f5f"
           }
          },
          "ternary": {
           "aaxis": {
            "gridcolor": "white",
            "linecolor": "white",
            "ticks": ""
           },
           "baxis": {
            "gridcolor": "white",
            "linecolor": "white",
            "ticks": ""
           },
           "bgcolor": "#E5ECF6",
           "caxis": {
            "gridcolor": "white",
            "linecolor": "white",
            "ticks": ""
           }
          },
          "title": {
           "x": 0.05
          },
          "xaxis": {
           "automargin": true,
           "gridcolor": "white",
           "linecolor": "white",
           "ticks": "",
           "title": {
            "standoff": 15
           },
           "zerolinecolor": "white",
           "zerolinewidth": 2
          },
          "yaxis": {
           "automargin": true,
           "gridcolor": "white",
           "linecolor": "white",
           "ticks": "",
           "title": {
            "standoff": 15
           },
           "zerolinecolor": "white",
           "zerolinewidth": 2
          }
         }
        },
        "title": {
         "text": "Результаты стратегии"
        },
        "width": 1000,
        "xaxis": {
         "anchor": "y",
         "domain": [
          0,
          1
         ],
         "matches": "x2",
         "rangeslider": {
          "visible": false
         },
         "showticklabels": false
        },
        "xaxis2": {
         "anchor": "y2",
         "domain": [
          0,
          1
         ],
         "rangeslider": {
          "visible": false
         }
        },
        "yaxis": {
         "anchor": "x",
         "domain": [
          0.33499999999999996,
          0.9999999999999999
         ],
         "title": {
          "text": "Цена"
         }
        },
        "yaxis2": {
         "anchor": "x2",
         "domain": [
          0,
          0.285
         ],
         "ticktext": [
          "Cash",
          "Stock"
         ],
         "tickvals": [
          0,
          1
         ],
         "title": {
          "text": "Позиция"
         }
        }
       }
      }
     },
     "metadata": {},
     "output_type": "display_data"
    }
   ],
   "source": [
    "\n",
    "buy = result[result['signal'] == 'buy']\n",
    "sell = result[result['signal'] == 'sale']\n",
    "sl   = result[result['signal'] == 'stop_loss']\n",
    "\n",
    "\n",
    "position = pd.Series(0, index=data.index)\n",
    "for _, row in result.iterrows():\n",
    "    dt = row['date']\n",
    "    if row['signal'] == 'buy':\n",
    "        position.loc[dt:] = 1\n",
    "    elif row['signal'] in ('sale','stop_loss'):\n",
    "        position.loc[dt:] = 0\n",
    "\n",
    "\n",
    "fig = make_subplots(\n",
    "    rows=2, cols=1,\n",
    "    shared_xaxes=True,\n",
    "    vertical_spacing=0.05,\n",
    "    row_heights=[0.7, 0.3],\n",
    "    subplot_titles=('Цена и сигналы', 'Позиция 0/1')\n",
    ")\n",
    "\n",
    "\n",
    "fig.add_trace(\n",
    "    go.Candlestick(\n",
    "        x=data.index,\n",
    "        open=data['open'], high=data['high'],\n",
    "        low=data['low'], close=data['close'],\n",
    "        name='Свечи'\n",
    "    ),\n",
    "    row=1, col=1\n",
    ")\n",
    "\n",
    "\n",
    "fig.add_trace(\n",
    "    go.Scatter(x=data.index, y=data['SMA_30'],\n",
    "               mode='lines', name='MA30',\n",
    "               line=dict(color='blue', width=1.5)),\n",
    "    row=1, col=1\n",
    ")\n",
    "fig.add_trace(\n",
    "    go.Scatter(x=data.index, y=data['SMA_90'],\n",
    "               mode='lines', name='MA90',\n",
    "               line=dict(color='orange', width=1.5)),\n",
    "    row=1, col=1\n",
    ")\n",
    "\n",
    "\n",
    "fig.add_trace(\n",
    "    go.Scatter(x=buy['date'], y=buy['share_price'] * 0.995,\n",
    "               mode='markers',\n",
    "               marker_symbol='triangle-up',\n",
    "               marker_color='green',\n",
    "               marker_size=12,\n",
    "               name='Buy'),\n",
    "    row=1, col=1\n",
    ")\n",
    "fig.add_trace(\n",
    "    go.Scatter(x=sell['date'], y=sell['share_price'] * 1.005,\n",
    "               mode='markers',\n",
    "               marker_symbol='triangle-down',\n",
    "               marker_color='red',\n",
    "               marker_size=12,\n",
    "               name='Sell'),\n",
    "    row=1, col=1\n",
    ")\n",
    "fig.add_trace(\n",
    "    go.Scatter(x=sl['date'], y=sl['share_price'] * 1.005,\n",
    "               mode='markers',\n",
    "               marker_symbol='triangle-down',\n",
    "               marker_color='black',\n",
    "               marker_size=12,\n",
    "               name='Stop-loss'),\n",
    "    row=1, col=1\n",
    ")\n",
    "\n",
    "\n",
    "fig.add_trace(\n",
    "    go.Scatter(x=position.index, y=position.values,\n",
    "               mode='lines',\n",
    "               name='Position'),\n",
    "    row=2, col=1\n",
    ")\n",
    "\n",
    "fig.update_layout(\n",
    "    height=700, width=1000,\n",
    "    title='Результаты стратегии',\n",
    "    showlegend=True\n",
    ")\n",
    "fig.update_xaxes(rangeslider_visible=False)\n",
    "fig.update_yaxes(title_text='Цена', row=1, col=1)\n",
    "fig.update_yaxes(title_text='Позиция', row=2, col=1, tickvals=[0,1], ticktext=['Cash','Stock'])\n",
    "\n",
    "fig.show()"
   ]
  }
 ],
 "metadata": {
  "kernelspec": {
   "display_name": "Python 3",
   "language": "python",
   "name": "python3"
  },
  "language_info": {
   "codemirror_mode": {
    "name": "ipython",
    "version": 3
   },
   "file_extension": ".py",
   "mimetype": "text/x-python",
   "name": "python",
   "nbconvert_exporter": "python",
   "pygments_lexer": "ipython3",
   "version": "3.12.0"
  }
 },
 "nbformat": 4,
 "nbformat_minor": 5
}
